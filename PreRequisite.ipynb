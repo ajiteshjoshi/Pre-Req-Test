{
  "nbformat": 4,
  "nbformat_minor": 0,
  "metadata": {
    "colab": {
      "provenance": []
    },
    "kernelspec": {
      "name": "python3",
      "display_name": "Python 3"
    },
    "language_info": {
      "name": "python"
    }
  },
  "cells": [
    {
      "cell_type": "code",
      "source": [
        "\"\"\"\n",
        "  Libraries\n",
        "\"\"\"\n",
        "import numpy as np\n",
        "import matplotlib.pyplot as plt\n",
        "import jax.numpy as jnp\n",
        "from jax import grad\n",
        "import sympy\n",
        "from sympy import diff, symbols\n",
        "import pandas as pd"
      ],
      "metadata": {
        "id": "painTPdlmLIp"
      },
      "execution_count": 2,
      "outputs": []
    },
    {
      "cell_type": "markdown",
      "source": [
        "Q1.\n",
        "\n",
        "    Number of multiplication operations for multiplying (NxK) and (KxM) matrices = NxKxM\n",
        "    Number of addition operations for multiplying (NxK) and (KxM) matrices = Nx(K-1)xM\n",
        "\n",
        "Explaination - \n",
        "\n",
        "a)  Multiplication -\n",
        "\n",
        "    No of multiplications of each element of the result matrix = K\n",
        "    The size of output matrix = NxM\n",
        "    So, number of multiplications = NxKxM\n",
        "\n",
        "(b) Addition - \n",
        "\n",
        "    No of additions of each row of the result matrix = (K-1)xM\n",
        "    No of rows in result matrix = N\n",
        "    So, number of additions = Nx(K-1)xM"
      ],
      "metadata": {
        "id": "A-UiO6QsoQqp"
      }
    },
    {
      "cell_type": "code",
      "source": [
        "\"\"\"\n",
        "  Q2.\n",
        "  Creating two Matrices for Comparing Speed\n",
        "\"\"\"\n",
        "n = 1000\n",
        "k = 100\n",
        "m = 100\n",
        "\n",
        "mat1 = np.random.uniform(-10, 10, (n,k))\n",
        "mat2 = np.random.uniform(-20, 20, (k,m))"
      ],
      "metadata": {
        "id": "PeOvieX4aEp5"
      },
      "execution_count": null,
      "outputs": []
    },
    {
      "cell_type": "code",
      "source": [
        "\"\"\"\n",
        "  (a) Using list of lists-\n",
        "\"\"\"\n",
        "\"\"\"\n",
        "(If you want Input)\n",
        "n = int(input())\n",
        "k = int(input())\n",
        "m = int(input())\n",
        "mat1 = []\n",
        "for i in range(n):\n",
        "    l = [int(x) for x in input().split()]\n",
        "    mat1.append(l)\n",
        "\n",
        "mat2 = []\n",
        "for i in range(k):\n",
        "    l = [int(x) for x in input().split()]\n",
        "    mat2.append(l)\n",
        "\"\"\"\n",
        "\n",
        "mat3 = []\n",
        "for i in range(n):\n",
        "    l = []\n",
        "    for j in range(m):\n",
        "        sum = 0\n",
        "        for x in range(k):\n",
        "            sum += mat1[i][x] * mat2[x][j]\n",
        "        l.append(sum)\n",
        "    mat3.append(l)\n",
        "    \n",
        "print(mat3)"
      ],
      "metadata": {
        "id": "leOTL1rWoTD1"
      },
      "execution_count": null,
      "outputs": []
    },
    {
      "cell_type": "code",
      "source": [
        "\"\"\"\n",
        "  (b) Using Numpy\n",
        "\"\"\"\n",
        "\n",
        "np.matmul(mat1, mat2)"
      ],
      "metadata": {
        "colab": {
          "base_uri": "https://localhost:8080/"
        },
        "id": "yXalCiAgo92H",
        "outputId": "8f617852-58b5-4d91-b286-dbdadd2606f2"
      },
      "execution_count": null,
      "outputs": [
        {
          "output_type": "execute_result",
          "data": {
            "text/plain": [
              "array([[   65.1031736 ,  -120.71228372,   287.67185995, ...,\n",
              "          391.6112152 ,  -508.89625186,   598.00225841],\n",
              "       [  710.99708078,   511.41277073,  -368.34347876, ...,\n",
              "         1170.59790843,  1233.80573729,  -484.6151549 ],\n",
              "       [  513.82082922,   687.7423605 ,   157.14706211, ...,\n",
              "        -1067.84858504,   784.76224779,   174.95070956],\n",
              "       ...,\n",
              "       [  356.74236363,   551.14289749,   223.83675031, ...,\n",
              "         -764.9641663 ,    -6.04812259,     9.92403763],\n",
              "       [-1357.14972393,  -156.89340173,   602.30137066, ...,\n",
              "          701.24024306,   549.36224201,  -159.30206107],\n",
              "       [ 1031.99610593,  -273.34729534,  -218.71638787, ...,\n",
              "          201.19642656,  -357.04149204,  -350.64592279]])"
            ]
          },
          "metadata": {},
          "execution_count": 44
        }
      ]
    },
    {
      "cell_type": "markdown",
      "source": [
        "With n = 1000, k = 100, m = 100:\n",
        "\n",
        "Our method takes 9s, while the numpy.matmul computes the multiplication in 0s.\n",
        "\n",
        "Time compexity for our method is $O(n^3)$, which is way worse than numpy.matmul."
      ],
      "metadata": {
        "id": "zK11E4QQbk_t"
      }
    },
    {
      "cell_type": "code",
      "source": [
        "\"\"\"\n",
        "  Q3.\n",
        "  Using Method 1\n",
        "\"\"\"\n",
        "l = [int(x) for x in input().split()]\n",
        "n = len(l)\n",
        "med = 0\n",
        "if(n%2 == 1):\n",
        "  for j in range(n//2 + 1):\n",
        "    max = l[0]\n",
        "    for i in l:\n",
        "      if(i > max):\n",
        "        max = i\n",
        "    if(j == n//2):\n",
        "      med = max\n",
        "    l.remove(max)\n",
        "if(n%2 == 0):\n",
        "  for j in range(n//2 + 1):\n",
        "    max = l[0]\n",
        "    for i in l:\n",
        "      if(i > max):\n",
        "        max = i\n",
        "    if(j == n//2 - 1 or j == n//2):\n",
        "      med += max\n",
        "    l.remove(max)\n",
        "  med /= 2\n",
        "print(med)      "
      ],
      "metadata": {
        "colab": {
          "base_uri": "https://localhost:8080/"
        },
        "id": "egy_gVV1rIxm",
        "outputId": "a417c321-2688-4316-d0ef-6f1005120778"
      },
      "execution_count": null,
      "outputs": [
        {
          "output_type": "stream",
          "name": "stdout",
          "text": [
            "2 5 46 46  878 76 565 6\n",
            "46.0\n"
          ]
        }
      ]
    },
    {
      "cell_type": "code",
      "source": [
        "\"\"\"\n",
        "  Using Method 2\n",
        "\"\"\"\n",
        "l = [int(x) for x in input().split()]\n",
        "n = len(l)\n",
        "l.sort()\n",
        "med = 0\n",
        "if(n%2 == 1):\n",
        "  med = l[n//2]\n",
        "else:\n",
        "  med = (l[n//2 - 1] + l[n//2]) / 2\n",
        "print(med)"
      ],
      "metadata": {
        "colab": {
          "base_uri": "https://localhost:8080/"
        },
        "id": "QyAa_Q0hvS37",
        "outputId": "7375f9bb-1ae6-4c14-c1f6-455359f7bbed"
      },
      "execution_count": null,
      "outputs": [
        {
          "output_type": "stream",
          "name": "stdout",
          "text": [
            "3 59 48 6 568 65 3 535 89\n",
            "59\n"
          ]
        }
      ]
    },
    {
      "cell_type": "code",
      "source": [
        "\"\"\"\n",
        "  Using Numpy\n",
        "\"\"\"\n",
        "arr = np.array([3, 59, 48, 6, 568, 65, 3, 535, 89])\n",
        "np.median(arr)"
      ],
      "metadata": {
        "colab": {
          "base_uri": "https://localhost:8080/"
        },
        "id": "9MnsTIRpwgXs",
        "outputId": "9c23e99b-b31d-45e2-ac77-eabb0b9e467e"
      },
      "execution_count": null,
      "outputs": [
        {
          "output_type": "execute_result",
          "data": {
            "text/plain": [
              "59.0"
            ]
          },
          "metadata": {},
          "execution_count": 22
        }
      ]
    },
    {
      "cell_type": "markdown",
      "source": [
        "Time complexity for Method1 is $ O(n^2)$\n",
        "\n",
        "Time complexity for Method2 is $O(n\\;log(n))$\n",
        "\n",
        "Time complexity for numpy.median is $O(n)$"
      ],
      "metadata": {
        "id": "lSxIMaPDdHfC"
      }
    },
    {
      "cell_type": "markdown",
      "source": [
        "\n",
        "\n",
        "Q4. \n",
        "\n",
        "$ f = x^2y + y^3sin(x)$\n",
        "\n",
        "$\\nabla f = (2xy + y^3cos(x))\\:\\hat{x}\\;+\\; (x^2 + 3y^2sin(x))\\:\\hat{y}$"
      ],
      "metadata": {
        "id": "3DSoOBghxm8G"
      }
    },
    {
      "cell_type": "code",
      "source": [
        "#Q5.\n",
        "\n",
        "def func(x):\n",
        "  return x[0]**2 * x[1] + x[1]**3 * jnp.sin(x[0])\n",
        "\n",
        "def Gradient(x):\n",
        "  return [2 * x[0] * x[1] + x[1]**3 * np.cos(x[0]), x[0]**2 + 3 * x[1]**2 * np.sin(x[0])]\n",
        "\n",
        "grad_Jax = grad(func)\n",
        "\n",
        "input = np.array([[0.2, 0.3], [2.4, 3.6], [4.4, 2.1]])\n",
        "\n",
        "for x in input:\n",
        "  print(Gradient(x), grad_Jax(x), end = \" \")\n",
        "  print()"
      ],
      "metadata": {
        "colab": {
          "base_uri": "https://localhost:8080/"
        },
        "id": "jr0Qb-UZbmPF",
        "outputId": "2759d416-b64a-43ab-ea41-0e6e4f0cf70b"
      },
      "execution_count": null,
      "outputs": [
        {
          "output_type": "stream",
          "name": "stdout",
          "text": [
            "[0.14646179760171352, 0.09364071931466654] [0.1464618  0.09364072] \n",
            "[-17.123841192292353, 32.02200845982875] [-17.123838  32.022003] \n",
            "[15.633790291129863, 6.770304562441705] [15.633791   6.7703066] \n"
          ]
        }
      ]
    },
    {
      "cell_type": "code",
      "source": [
        "#Q6.\n",
        "\n",
        "def gradient_sym(f, coord):\n",
        "  return [diff(f, C) for C in coord]\n",
        "\n",
        "xy = x, y =  symbols('x y')\n",
        "func = x**2 * y + y**3 * sympy.sin(x)\n",
        "\n",
        "grd = gradient_sym(func, xy)\n",
        "print(grd)"
      ],
      "metadata": {
        "colab": {
          "base_uri": "https://localhost:8080/"
        },
        "id": "pN_CNGRkkQiU",
        "outputId": "a887fc86-dca9-48c7-a070-1602ae5195f4"
      },
      "execution_count": null,
      "outputs": [
        {
          "output_type": "stream",
          "name": "stdout",
          "text": [
            "[2*x*y + y**3*cos(x), x**2 + 3*y**2*sin(x)]\n"
          ]
        }
      ]
    },
    {
      "cell_type": "code",
      "source": [
        "#Q7.\n",
        "db = {\n",
        "    2022 : {\n",
        "        \"Branch1\" : {\n",
        "            \"StudentX\" : {\n",
        "                \"Roll no.\" : 1,\n",
        "                \"Name\" : \"X\",\n",
        "                \"Marks\" : {\n",
        "                    \"English\" : 79,\n",
        "                    \"Maths\" : 69,\n",
        "                    \"Computer\" : 89\n",
        "                }  \n",
        "            },\n",
        "            \"StudentY\" : {\n",
        "                \"Roll no.\" : 2,\n",
        "                \"Name\" : \"Y\",\n",
        "                \"Marks\" : {\n",
        "                    \"English\" : 76,\n",
        "                    \"Maths\" : 66,\n",
        "                    \"Computer\" : 86\n",
        "                }  \n",
        "            },\n",
        "            \"StudentZ\" : {\n",
        "                \"Roll no.\" : 3,\n",
        "                \"Name\" : \"Z\",\n",
        "                \"Marks\" : {\n",
        "                    \"English\" : 49,\n",
        "                    \"Maths\" : 64,\n",
        "                    \"Computer\" : 84\n",
        "                }  \n",
        "            }\n",
        "        },\n",
        "        \"Branch2\" : {\n",
        "            \"StudentX\" : {\n",
        "                \"Roll no.\" : 1,\n",
        "                \"Name\" : \"A\",\n",
        "                \"Marks\" : {\n",
        "                    \"English\" : 71,\n",
        "                    \"Maths\" : 61,\n",
        "                    \"Computer\" : 81\n",
        "                }  \n",
        "            },\n",
        "            \"StudentY\" : {\n",
        "                \"Roll no.\" : 2,\n",
        "                \"Name\" : \"B\",\n",
        "                \"Marks\" : {\n",
        "                    \"English\" : 76,\n",
        "                    \"Maths\" : 56,\n",
        "                    \"Computer\" : 96\n",
        "                }  \n",
        "            },\n",
        "            \"StudentZ\" : {\n",
        "                \"Roll no.\" : 3,\n",
        "                \"Name\" : \"C\",\n",
        "                \"Marks\" : {\n",
        "                    \"English\" : 41,\n",
        "                    \"Maths\" : 74,\n",
        "                    \"Computer\" : 88\n",
        "                }  \n",
        "            }\n",
        "        }\n",
        "    },\n",
        "        2023 : {\n",
        "        \"Branch1\" : {\n",
        "            \"StudentX\" : {\n",
        "                \"Roll no.\" : 1,\n",
        "                \"Name\" : \"L\",\n",
        "                \"Marks\" : {\n",
        "                    \"English\" : 89,\n",
        "                    \"Maths\" : 39,\n",
        "                    \"Computer\" : 99\n",
        "                }  \n",
        "            },\n",
        "            \"StudentY\" : {\n",
        "                \"Roll no.\" : 2,\n",
        "                \"Name\" : \"M\",\n",
        "                \"Marks\" : {\n",
        "                    \"English\" : 86,\n",
        "                    \"Maths\" : 66,\n",
        "                    \"Computer\" : 96\n",
        "                }  \n",
        "            },\n",
        "            \"StudentZ\" : {\n",
        "                \"Roll no.\" : 3,\n",
        "                \"Name\" : \"N\",\n",
        "                \"Marks\" : {\n",
        "                    \"English\" : 49,\n",
        "                    \"Maths\" : 69,\n",
        "                    \"Computer\" : 94\n",
        "                }  \n",
        "            }\n",
        "        },\n",
        "        \"Branch2\" : {\n",
        "            \"StudentX\" : {\n",
        "                \"Roll no.\" : 1,\n",
        "                \"Name\" : \"I\",\n",
        "                \"Marks\" : {\n",
        "                    \"English\" : 51,\n",
        "                    \"Maths\" : 41,\n",
        "                    \"Computer\" : 81\n",
        "                }  \n",
        "            },\n",
        "            \"StudentY\" : {\n",
        "                \"Roll no.\" : 2,\n",
        "                \"Name\" : \"J\",\n",
        "                \"Marks\" : {\n",
        "                    \"English\" : 86,\n",
        "                    \"Maths\" : 59,\n",
        "                    \"Computer\" : 96\n",
        "                }  \n",
        "            },\n",
        "            \"StudentZ\" : {\n",
        "                \"Roll no.\" : 3,\n",
        "                \"Name\" : \"K\",\n",
        "                \"Marks\" : {\n",
        "                    \"English\" : 61,\n",
        "                    \"Maths\" : 64,\n",
        "                    \"Computer\" : 68\n",
        "                }  \n",
        "            }\n",
        "        }\n",
        "    }\n",
        "}\n",
        "print(db[2023][\"Branch1\"][\"StudentY\"][\"Name\"], db[2023][\"Branch1\"][\"StudentY\"][\"Marks\"][\"Computer\"], end = \" \")"
      ],
      "metadata": {
        "colab": {
          "base_uri": "https://localhost:8080/"
        },
        "id": "1bMsjT_1-FvU",
        "outputId": "b3ce4c01-5662-4cca-a36f-11ef8d4933f5"
      },
      "execution_count": null,
      "outputs": [
        {
          "output_type": "stream",
          "name": "stdout",
          "text": [
            "M 96 "
          ]
        }
      ]
    },
    {
      "cell_type": "code",
      "source": [
        "#Q8.\n",
        "class Marks:\n",
        "  def __init__(self, English, Maths, Computer):\n",
        "    self.English = English\n",
        "    self.Maths = Maths\n",
        "    self.Computer = Computer\n",
        "class Student():\n",
        "  def __init__(self, Roll_no, Name, Marks):\n",
        "    self.Roll_no = Roll_no\n",
        "    self.Name = Name\n",
        "    self.Marks = Marks\n",
        "class Branch():\n",
        "  def __init__(self, Branch_name, Student):\n",
        "    self.Branch_name = Branch_name\n",
        "    self.Student = Student\n",
        "class Year():\n",
        "  def __init__(self, Year, Branch):\n",
        "    self.Year = Year\n",
        "    self.Branch = Branch\n",
        "    \n",
        "M1 = Marks(76, 80, 92)\n",
        "M2 = Marks(79, 100, 90)\n",
        "M3 = Marks(69, 95, 48)\n",
        "M4 = Marks(66, 75, 58)\n",
        "M5 = Marks(59, 73, 61)\n",
        "\n",
        "S1 = Student(1, \"StudentX\", M1)\n",
        "S2 = Student(2, \"StudentY\", M2)\n",
        "S3 = Student(1, \"StudentA\", M3)\n",
        "S4 = Student(2, \"StudentB\", M4)\n",
        "S5 = Student(1, \"StudentI\", M5)\n",
        "\n",
        "B1 = Branch(\"Branch1\", [S1, S2])\n",
        "B2 = Branch(\"Branch2\", [S3])\n",
        "B3 = Branch(\"Branch3\", [S4, S5])\n",
        "\n",
        "Y1 = Year(2022, [B1, B2])\n",
        "Y2 = Year(2023, [B3])\n",
        "\n",
        "db = [Y1, Y2]\n",
        "\n",
        "print(db[0].Year, db[0].Branch[1].Branch_name, db[0].Branch[1].Student[0].Name, db[0].Branch[1].Student[0].Marks.English, db[0].Branch[1].Student[0].Marks.Maths, db[0].Branch[1].Student[0].Marks.Computer, end = \" \")"
      ],
      "metadata": {
        "colab": {
          "base_uri": "https://localhost:8080/"
        },
        "id": "3Hwj7-aYGuk9",
        "outputId": "8236bf0e-5843-4d21-efbd-61180e61428f"
      },
      "execution_count": null,
      "outputs": [
        {
          "output_type": "stream",
          "name": "stdout",
          "text": [
            "2022 Branch2 StudentA 69 95 48 "
          ]
        }
      ]
    },
    {
      "cell_type": "code",
      "source": [
        "#Q9.\n",
        "x = np.arange(0.5, 100, 0.5)\n",
        "y = np.array([n for n in x])\n",
        "plt.plot(x, y)                       \n",
        "plt.title('Y=X')          \n",
        "plt.xlabel('X-axis')     \n",
        "plt.ylabel('Y-axis')\n",
        "plt.show() \n",
        "\n",
        "y = np.array([n*n for n in x])\n",
        "plt.plot(x, y)                      \n",
        "plt.title('Y=X^2')          \n",
        "plt.xlabel('X-axis')     \n",
        "plt.ylabel('Y-axis')\n",
        "plt.show() \n",
        "\n",
        "y = np.array([n*n*n/100 for n in x])\n",
        "plt.plot(x, y)                      \n",
        "plt.title('Y=X^3/100')          \n",
        "plt.xlabel('X-axis')     \n",
        "plt.ylabel('Y-axis')\n",
        "plt.show() \n",
        "\n",
        "y = np.sin(x)\n",
        "plt.plot(x, y)     \n",
        "plt.ylim(-10, 10)                 \n",
        "plt.title('Y=sin(X)')          \n",
        "plt.xlabel('X-axis')     \n",
        "plt.ylabel('Y-axis')\n",
        "plt.show() \n",
        "\n",
        "y = np.sin(x)/x\n",
        "plt.plot(x, y)                   \n",
        "plt.title('Y=sin(X)/X')          \n",
        "plt.xlabel('X-axis')     \n",
        "plt.ylabel('Y-axis')\n",
        "plt.show() \n",
        "\n",
        "y = np.log(x)\n",
        "plt.plot(x, y)                      \n",
        "plt.title('Y=log(X)')          \n",
        "plt.xlabel('X-axis')     \n",
        "plt.ylabel('Y-axis')\n",
        "plt.show() \n",
        "\n",
        "y = np.exp(x)\n",
        "plt.plot(x, y)                      \n",
        "plt.title('Y=e^X')          \n",
        "plt.xlabel('X-axis')     \n",
        "plt.ylabel('Y-axis')\n",
        "plt.show() "
      ],
      "metadata": {
        "colab": {
          "base_uri": "https://localhost:8080/",
          "height": 1000
        },
        "id": "tQG43Hv5zNaH",
        "outputId": "d277161f-d2b7-4401-aee2-9052b3a2d50b"
      },
      "execution_count": null,
      "outputs": [
        {
          "output_type": "display_data",
          "data": {
            "text/plain": [
              "<Figure size 432x288 with 1 Axes>"
            ],
            "image/png": "[encoded data removed]"
          },
          "metadata": {
            "needs_background": "light"
          }
        },
        {
          "output_type": "display_data",
          "data": {
            "text/plain": [
              "<Figure size 432x288 with 1 Axes>"
            ],
            "image/png": "[encoded data removed]"
          },
          "metadata": {
            "needs_background": "light"
          }
        },
        {
          "output_type": "display_data",
          "data": {
            "text/plain": [
              "<Figure size 432x288 with 1 Axes>"
            ],
            "image/png": "[encoded data removed]"
          },
          "metadata": {
            "needs_background": "light"
          }
        },
        {
          "output_type": "display_data",
          "data": {
            "text/plain": [
              "<Figure size 432x288 with 1 Axes>"
            ],
            "image/png": "[encoded data removed]"
          },
          "metadata": {
            "needs_background": "light"
          }
        },
        {
          "output_type": "display_data",
          "data": {
            "text/plain": [
              "<Figure size 432x288 with 1 Axes>"
            ],
            "image/png": "[encoded data removed]"
          },
          "metadata": {
            "needs_background": "light"
          }
        },
        {
          "output_type": "display_data",
          "data": {
            "text/plain": [
              "<Figure size 432x288 with 1 Axes>"
            ],
            "image/png": "[encoded data removed]"
          },
          "metadata": {
            "needs_background": "light"
          }
        },
        {
          "output_type": "display_data",
          "data": {
            "text/plain": [
              "<Figure size 432x288 with 1 Axes>"
            ],
            "image/png": "[encoded data removed]"
          },
          "metadata": {
            "needs_background": "light"
          }
        }
      ]
    },
    {
      "cell_type": "code",
      "source": [
        "#Q10.\n",
        "mat = np.random.uniform(1, 2, (20,5))\n",
        "cols = [\"a\", \"b\", \"c\", \"d\", \"e\"]\n",
        "df = pd.DataFrame(data = mat, columns = cols)\n",
        "\n",
        "max_sd = df[\"a\"].std()\n",
        "for i in range(1, 5):\n",
        "  sd = df[cols[i]].std()\n",
        "  l.append(sd)\n",
        "  if(sd > max_sd):\n",
        "    max_sd = sd\n",
        "print(max_sd)\n",
        "\n",
        "mean_df = df.mean(axis = 1)\n",
        "min_mean = mean_df.min()\n",
        "print(min_mean)"
      ],
      "metadata": {
        "colab": {
          "base_uri": "https://localhost:8080/"
        },
        "id": "tdIk_M_GONqj",
        "outputId": "2284f5ad-dad7-4208-89b0-1831015dffbf"
      },
      "execution_count": 27,
      "outputs": [
        {
          "output_type": "stream",
          "name": "stdout",
          "text": [
            "0.32206177399004776\n",
            "1.3046974424729378\n"
          ]
        }
      ]
    },
    {
      "cell_type": "code",
      "source": [
        "#Q11.\n",
        "df[\"f\"] = df.sum(axis = 1)\n",
        "df[\"g\"] = [\"LT8\" if x < 8 else \"GT8\" for x in df[\"f\"]]\n",
        "print(df)\n",
        "print(len(df[df[\"g\"] == \"LT8\"]))\n",
        "lt_sd = df[df[\"g\"] == \"LT8\"][\"f\"].std()\n",
        "gt_sd = df[df[\"g\"] == \"GT8\"][\"f\"].std()\n",
        "print(lt_sd, gt_sd, end = \" \")"
      ],
      "metadata": {
        "colab": {
          "base_uri": "https://localhost:8080/"
        },
        "id": "e3fdP08VUL1X",
        "outputId": "314c267e-321e-474b-b0d5-8fdaf80188cf"
      },
      "execution_count": 28,
      "outputs": [
        {
          "output_type": "stream",
          "name": "stdout",
          "text": [
            "           a         b         c         d         e         f    g\n",
            "0   1.577415  1.673979  1.050036  1.557149  1.864022  7.722602  LT8\n",
            "1   1.443835  1.133260  1.292188  1.640574  1.319749  6.829606  LT8\n",
            "2   1.567476  1.621071  1.402359  1.892472  1.280031  7.763409  LT8\n",
            "3   1.954623  1.811798  1.405906  1.837048  1.477424  8.486799  GT8\n",
            "4   1.103029  1.209202  1.392396  1.598202  1.220658  6.523487  LT8\n",
            "5   1.916592  1.637912  1.909413  1.202563  1.607156  8.273637  GT8\n",
            "6   1.943197  1.680488  1.358456  1.102260  1.324637  7.409039  LT8\n",
            "7   1.755739  1.544105  1.711087  1.209431  1.208579  7.428941  LT8\n",
            "8   1.770389  1.566312  1.876079  1.979260  1.301886  8.493925  GT8\n",
            "9   1.509686  1.830255  1.492179  1.405627  1.517505  7.755252  LT8\n",
            "10  1.644643  1.323864  1.413297  1.778512  1.194061  7.354377  LT8\n",
            "11  1.876051  1.330849  1.701108  1.644147  1.383523  7.935679  LT8\n",
            "12  1.110904  1.347127  1.797954  1.261780  1.467022  6.984787  LT8\n",
            "13  1.950430  1.827109  1.852169  1.028596  1.557488  8.215793  GT8\n",
            "14  1.008010  1.897395  1.729665  1.569898  1.629076  7.834045  LT8\n",
            "15  1.296955  1.622076  1.722296  1.013517  1.729061  7.383904  LT8\n",
            "16  1.880461  1.729653  1.672110  1.547756  1.536749  8.366730  GT8\n",
            "17  1.489886  1.022328  1.156579  1.399668  1.707388  6.775848  LT8\n",
            "18  1.036428  1.972605  1.194114  1.410601  1.255005  6.868754  LT8\n",
            "19  1.709696  1.677961  1.000627  1.122112  1.655728  7.166125  LT8\n",
            "15\n",
            "0.44133898296080587 0.12454056001219994 "
          ]
        }
      ]
    },
    {
      "cell_type": "code",
      "source": [
        "#Q12.\n",
        "mat1 = np.random.uniform(0, 1, size = (4,1))\n",
        "mat2 = np.random.uniform(0, 1, size = (1,3))\n",
        "mat3 = mat1 + mat2\n",
        "print(\"Matrix 1\")\n",
        "print(mat1)\n",
        "print(\"Matrix 2\")\n",
        "print(mat2)\n",
        "print(\"Matrix 3\")\n",
        "print(mat3)"
      ],
      "metadata": {
        "colab": {
          "base_uri": "https://localhost:8080/"
        },
        "id": "INtLDDxJinwt",
        "outputId": "7fb4fe0f-b527-43ca-86da-99874057c36f"
      },
      "execution_count": 3,
      "outputs": [
        {
          "output_type": "stream",
          "name": "stdout",
          "text": [
            "Matrix 1\n",
            "[[0.90680272]\n",
            " [0.90491787]\n",
            " [0.88217512]\n",
            " [0.48455048]]\n",
            "Matrix 2\n",
            "[[0.92265123 0.37514571 0.82564871]]\n",
            "Matrix 3\n",
            "[[1.82945395 1.28194843 1.73245143]\n",
            " [1.82756911 1.28006358 1.73056659]\n",
            " [1.80482635 1.25732082 1.70782383]\n",
            " [1.40720171 0.85969619 1.31019919]]\n"
          ]
        }
      ]
    },
    {
      "cell_type": "code",
      "source": [
        "\n",
        "\"\"\"\n",
        "  Q13.\n",
        "  (a) Function for argmin (no axis specified)\n",
        "\"\"\"\n",
        "arr_min = np.array([[[1, 2, -2, 6], [4, 5, 6, -2]], [[7, 8, 0, -3], [-1, 11, 12, 10]]])\n",
        "min = arr_min[0][0][0]\n",
        "min_index = 0\n",
        "shp = np.shape(arr_min)\n",
        "for i in range(shp[0]):\n",
        "  for j in range(shp[1]):\n",
        "    for k in range(shp[2]):\n",
        "      if(arr_min[i][j][k] < min):\n",
        "        min = arr_min[i][j][k]\n",
        "        min_index = i*shp[1]*shp[2] + j*shp[2] + k\n",
        "print(min_index)\n",
        "\n",
        "\"\"\"\n",
        "  (b) Using Numpy function\n",
        "\"\"\"\n",
        "print(np.argmin(arr_min))\n",
        "\n"
      ],
      "metadata": {
        "colab": {
          "base_uri": "https://localhost:8080/"
        },
        "id": "ZNDumvbBfrIi",
        "outputId": "404dae47-c3ba-4e2f-abbb-20ce7259c4a2"
      },
      "execution_count": 30,
      "outputs": [
        {
          "output_type": "stream",
          "name": "stdout",
          "text": [
            "11\n",
            "11\n"
          ]
        }
      ]
    },
    {
      "cell_type": "code",
      "source": [
        "\"\"\"\n",
        "  If the axis is specified\n",
        "\"\"\"\n",
        "\n",
        "arr_min = np.random.uniform(-100, 100, (3, 5, 4))\n",
        "\n",
        "shp = np.shape(arr_min)\n",
        "\n",
        "index = np.argmin(arr_min, axis = 1)\n",
        "ax = int(input())\n",
        "\n",
        "l = [shp[1] * shp[2], shp[2], 1]\n",
        "l.pop(ax)\n",
        "dim = len(shp)\n",
        "\n",
        "argmin_shape = np.shape(arr_min)\n",
        "\n",
        "\n",
        "\n",
        "tup_len = len(argmin_shape)\n",
        "if(ax == tup_len - 1):\n",
        "  argmin_shape = argmin_shape[:ax]\n",
        "else:\n",
        "  argmin_shape = argmin_shape[:ax] + argmin_shape[ax + 1:]\n",
        "\n",
        "\n",
        "flat_array = arr_min.flatten()\n",
        "\n",
        "stride = 1\n",
        "for i in range(ax + 1, dim):\n",
        "  stride *= shp[i]\n",
        "\n",
        "span = shp[ax]\n",
        "\n",
        "argmin_arr = []\n",
        "\n",
        "print(stride, span)\n",
        "\n",
        "for i in range(argmin_shape[0]):\n",
        "  argmin_subarr = []\n",
        "  for j in range(argmin_shape[1]):\n",
        "    start_index = (i * l[0] + j * l[1])\n",
        "    min_val = flat_array[start_index]\n",
        "    min_index = 0\n",
        "    #print(min_val)\n",
        "    for k in range(span):\n",
        "      if(flat_array[start_index + stride * k] < min_val):\n",
        "        min_val = flat_array[start_index + stride * k]\n",
        "        min_index = k\n",
        "    argmin_subarr.append(min_index)\n",
        "  argmin_arr.append(argmin_subarr)\n",
        "\n",
        "  \n",
        "\n",
        "\n",
        "\n",
        "print(arr_min)\n",
        "print(argmin_arr)\n",
        "\n",
        "\"\"\"\n",
        "  Using Numpy function\n",
        "\"\"\"\n",
        "\n",
        "print(np.argmin(arr_min, axis = ax))"
      ],
      "metadata": {
        "colab": {
          "base_uri": "https://localhost:8080/"
        },
        "id": "C2nTV8VLYgDN",
        "outputId": "14238a25-cd40-4bce-f3a0-4bd82ed903de"
      },
      "execution_count": 31,
      "outputs": [
        {
          "output_type": "stream",
          "name": "stdout",
          "text": [
            "1\n",
            "4 5\n",
            "[[[-92.94253675 -37.94309928  43.82509458  66.76957162]\n",
            "  [-10.90671185 -61.56100325  60.79301094 -77.7921223 ]\n",
            "  [-74.92708617  13.67156401 -36.59999748 -31.31751129]\n",
            "  [ 81.65882276  26.19747188 -31.68033693  54.98346644]\n",
            "  [ 32.95786961  53.63881028  45.77711534 -87.76670761]]\n",
            "\n",
            " [[-36.696114    96.80310587  54.42110286  70.66527303]\n",
            "  [ 92.89466102 -37.15676343 -23.00391729 -56.90086238]\n",
            "  [ -4.94267059  73.09399281  10.43677853 -83.42056771]\n",
            "  [-12.42429394 -92.28120352  71.17742579  76.08378916]\n",
            "  [ 51.40831775  11.37230768   3.79276953 -45.14449593]]\n",
            "\n",
            " [[ 12.23231347 -90.65924551  83.02472385 -70.26837638]\n",
            "  [ -8.69902869  -9.4861233   53.53536507 -33.61519262]\n",
            "  [ 25.83877648 -34.83771006  -4.98988331  60.64761812]\n",
            "  [-39.60400832 -69.78433343  81.26118387  73.56766553]\n",
            "  [ -4.5950085   45.25489982 -27.17817696  41.35531619]]]\n",
            "[[0, 1, 2, 4], [0, 3, 1, 2], [3, 0, 4, 0]]\n",
            "[[0 1 2 4]\n",
            " [0 3 1 2]\n",
            " [3 0 4 0]]\n"
          ]
        }
      ]
    },
    {
      "cell_type": "code",
      "source": [
        "\"\"\"\n",
        "a = np.arange(6).reshape(2,3) + 10\n",
        "\n",
        "print(a)\n",
        "print(np.argmin(a, axis=0))\n",
        "print(np.argmin(a, axis=1))\n",
        "print(np.shape(a))\n",
        "\"\"\""
      ],
      "metadata": {
        "colab": {
          "base_uri": "https://localhost:8080/",
          "height": 35
        },
        "id": "8tO4mVOQhCO7",
        "outputId": "16c116d2-bb78-47e9-a60c-c6d1f1285484"
      },
      "execution_count": 26,
      "outputs": [
        {
          "output_type": "execute_result",
          "data": {
            "text/plain": [
              "'\\na = np.arange(6).reshape(2,3) + 10\\n\\nprint(a)\\nprint(np.argmin(a, axis=0))\\nprint(np.argmin(a, axis=1))\\nprint(np.shape(a))\\n'"
            ],
            "application/vnd.google.colaboratory.intrinsic+json": {
              "type": "string"
            }
          },
          "metadata": {},
          "execution_count": 26
        }
      ]
    }
  ]
}